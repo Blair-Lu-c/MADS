{
 "cells": [
  {
   "cell_type": "markdown",
   "id": "8b11fe06",
   "metadata": {},
   "source": [
    "# Optimizing Markowitz - L1 plus shrinking the sample covariance matrix towards a one-factor matrix (Ledoit and Wolf, 2003)\n",
    "\n",
    "## Import functions"
   ]
  },
  {
   "cell_type": "code",
   "execution_count": 1,
   "id": "5000f5e6",
   "metadata": {},
   "outputs": [],
   "source": [
    "import pandas as pd\n",
    "import numpy as np\n",
    "import matplotlib.pyplot as plt\n",
    "import math\n",
    "import sklearn\n",
    "import pypfopt\n",
    "import itertools\n",
    "import pypfopt\n",
    "from pypfopt import EfficientFrontier\n",
    "from pypfopt import risk_models\n",
    "from pypfopt import expected_returns\n",
    "from sklearn.linear_model import LinearRegression, Ridge, Lasso\n",
    "from sklearn.model_selection import train_test_split, cross_val_score\n",
    "from sklearn.covariance import LedoitWolf"
   ]
  },
  {
   "cell_type": "markdown",
   "id": "ed2aea59",
   "metadata": {},
   "source": [
    "## Data preparation"
   ]
  },
  {
   "cell_type": "code",
   "execution_count": 2,
   "id": "78d85796",
   "metadata": {
    "scrolled": true
   },
   "outputs": [
    {
     "name": "stdout",
     "output_type": "stream",
     "text": [
      "<class 'pandas.core.frame.DataFrame'>\n",
      "DatetimeIndex: 5542 entries, 1992-12-31 to 2014-12-31\n",
      "Data columns (total 48 columns):\n",
      " #   Column  Non-Null Count  Dtype  \n",
      "---  ------  --------------  -----  \n",
      " 0    Agric  5542 non-null   float64\n",
      " 1   Food    5542 non-null   float64\n",
      " 2   Soda    5542 non-null   float64\n",
      " 3   Beer    5542 non-null   float64\n",
      " 4   Smoke   5542 non-null   float64\n",
      " 5   Toys    5542 non-null   float64\n",
      " 6   Fun     5542 non-null   float64\n",
      " 7   Books   5542 non-null   float64\n",
      " 8   Hshld   5542 non-null   float64\n",
      " 9   Clths   5542 non-null   float64\n",
      " 10  Hlth    5542 non-null   float64\n",
      " 11  MedEq   5542 non-null   float64\n",
      " 12  Drugs   5542 non-null   float64\n",
      " 13  Chems   5542 non-null   float64\n",
      " 14  Rubbr   5542 non-null   float64\n",
      " 15  Txtls   5542 non-null   float64\n",
      " 16  BldMt   5542 non-null   float64\n",
      " 17  Cnstr   5542 non-null   float64\n",
      " 18  Steel   5542 non-null   float64\n",
      " 19  FabPr   5542 non-null   float64\n",
      " 20  Mach    5542 non-null   float64\n",
      " 21  ElcEq   5542 non-null   float64\n",
      " 22  Autos   5542 non-null   float64\n",
      " 23  Aero    5542 non-null   float64\n",
      " 24  Ships   5542 non-null   float64\n",
      " 25  Guns    5542 non-null   float64\n",
      " 26  Gold    5542 non-null   float64\n",
      " 27  Mines   5542 non-null   float64\n",
      " 28  Coal    5542 non-null   float64\n",
      " 29  Oil     5542 non-null   float64\n",
      " 30  Util    5542 non-null   float64\n",
      " 31  Telcm   5542 non-null   float64\n",
      " 32  PerSv   5542 non-null   float64\n",
      " 33  BusSv   5542 non-null   float64\n",
      " 34  Comps   5542 non-null   float64\n",
      " 35  Chips   5542 non-null   float64\n",
      " 36  LabEq   5542 non-null   float64\n",
      " 37  Paper   5542 non-null   float64\n",
      " 38  Boxes   5542 non-null   float64\n",
      " 39  Trans   5542 non-null   float64\n",
      " 40  Whlsl   5542 non-null   float64\n",
      " 41  Rtail   5542 non-null   float64\n",
      " 42  Meals   5542 non-null   float64\n",
      " 43  Banks   5542 non-null   float64\n",
      " 44  Insur   5542 non-null   float64\n",
      " 45  RlEst   5542 non-null   float64\n",
      " 46  Fin     5542 non-null   float64\n",
      " 47  Other   5542 non-null   float64\n",
      "dtypes: float64(48)\n",
      "memory usage: 2.1 MB\n"
     ]
    }
   ],
   "source": [
    "df = pd.read_csv('Test_data/48_Industry_Portfolios_Daily_Clean.csv', index_col = 0)\n",
    "df.rename(columns={\"Average Value Weighted Returns -- Daily\": \"date\"}, inplace=True)\n",
    "df['date'] = pd.to_datetime(df['date'], format='%Y%m%d')\n",
    "df = df.loc[(df['date'] >= '1992-12-31') & (df['date'] <= '2014-12-31')]\n",
    "df = df.set_index('date')\n",
    "df = df/100\n",
    "df.info()"
   ]
  },
  {
   "cell_type": "markdown",
   "id": "2b9b5c4a",
   "metadata": {},
   "source": [
    "### N * T matrix of T observations on a system of N variables representing T returns on a universe of N stocks (N = 48 assets in each portfolio; T = 250 observation days， P  = 21 observation days, portfolios_set = 252)"
   ]
  },
  {
   "cell_type": "code",
   "execution_count": 3,
   "id": "5d2f0ac4",
   "metadata": {},
   "outputs": [
    {
     "data": {
      "text/plain": [
       "252"
      ]
     },
     "execution_count": 3,
     "metadata": {},
     "output_type": "execute_result"
    }
   ],
   "source": [
    "observation_days = 250\n",
    "prediction_days = 21\n",
    "n_assets = df.shape[1]\n",
    "n_portfolios = math.floor((len(df)-250)/21)\n",
    "n_portfolios"
   ]
  },
  {
   "cell_type": "markdown",
   "id": "f530bfe4",
   "metadata": {},
   "source": [
    "### Split each group value"
   ]
  },
  {
   "cell_type": "code",
   "execution_count": 4,
   "id": "3c8e534f",
   "metadata": {},
   "outputs": [],
   "source": [
    "def get_all_portfoios(obs_days,pre_days,n):\n",
    "    obs_data = []\n",
    "    pre_data = []\n",
    "    for i in range(0,n):\n",
    "        obs_data.append(df.iloc[pre_days*i:obs_days + pre_days*i,:])\n",
    "        pre_data.append(df.iloc[obs_days+pre_days*i:obs_days+pre_days*i+pre_days:,:])\n",
    "    return obs_data, pre_data"
   ]
  },
  {
   "cell_type": "code",
   "execution_count": 5,
   "id": "ea6d50f9",
   "metadata": {},
   "outputs": [
    {
     "name": "stdout",
     "output_type": "stream",
     "text": [
      "number of observation: 252\n",
      " number of prediction 252\n",
      " shape of observation:(250, 48)\n",
      " shape of prediction:(21, 48)\n",
      "\n",
      " observation sample \n",
      "             Agric   Food    Soda    Beer    Smoke   Toys    Fun     Books  \\\n",
      "date                                                                         \n",
      "1992-12-31  0.0111 -0.0081  0.0037 -0.0158  0.0037  0.0027 -0.0035 -0.0026   \n",
      "1993-01-04 -0.0020 -0.0079 -0.0048 -0.0019 -0.0071  0.0027 -0.0027  0.0041   \n",
      "1993-01-05 -0.0025 -0.0143 -0.0146 -0.0140 -0.0133  0.0052  0.0026 -0.0005   \n",
      "1993-01-06  0.0074 -0.0097  0.0139 -0.0009 -0.0306  0.0083  0.0137  0.0081   \n",
      "1993-01-07 -0.0203 -0.0060 -0.0089 -0.0196  0.0013 -0.0134 -0.0095 -0.0036   \n",
      "...            ...     ...     ...     ...     ...     ...     ...     ...   \n",
      "1993-12-20 -0.0072 -0.0024 -0.0125  0.0026 -0.0046 -0.0113 -0.0027  0.0009   \n",
      "1993-12-21 -0.0081  0.0030 -0.0029  0.0073  0.0094 -0.0187 -0.0063 -0.0021   \n",
      "1993-12-22 -0.0035  0.0047  0.0348  0.0090  0.0072  0.0069  0.0071  0.0044   \n",
      "1993-12-23  0.0192 -0.0039  0.0231 -0.0013  0.0100  0.0029  0.0006 -0.0019   \n",
      "1993-12-27  0.0025  0.0020 -0.0111  0.0090 -0.0036  0.0033 -0.0018  0.0024   \n",
      "\n",
      "             Hshld   Clths  ...   Boxes   Trans   Whlsl   Rtail   Meals  \\\n",
      "date                        ...                                           \n",
      "1992-12-31 -0.0031  0.0027  ...  0.0052 -0.0056  0.0046 -0.0027  0.0075   \n",
      "1993-01-04 -0.0012 -0.0015  ...  0.0094  0.0045 -0.0049 -0.0137 -0.0030   \n",
      "1993-01-05  0.0040  0.0022  ...  0.0132  0.0041  0.0044 -0.0013 -0.0013   \n",
      "1993-01-06 -0.0010  0.0004  ...  0.0002  0.0069  0.0039 -0.0065  0.0043   \n",
      "1993-01-07 -0.0096  0.0018  ... -0.0093  0.0011 -0.0043 -0.0102 -0.0029   \n",
      "...            ...     ...  ...     ...     ...     ...     ...     ...   \n",
      "1993-12-20  0.0030 -0.0063  ...  0.0012 -0.0017 -0.0033 -0.0091 -0.0004   \n",
      "1993-12-21  0.0042 -0.0103  ...  0.0100  0.0008  0.0024 -0.0149 -0.0034   \n",
      "1993-12-22  0.0088  0.0013  ...  0.0010  0.0052 -0.0010 -0.0030  0.0011   \n",
      "1993-12-23  0.0015  0.0060  ...  0.0071 -0.0017  0.0055  0.0002 -0.0034   \n",
      "1993-12-27  0.0091  0.0007  ...  0.0075  0.0046  0.0026  0.0032 -0.0018   \n",
      "\n",
      "             Banks   Insur   RlEst   Fin     Other  \n",
      "date                                                \n",
      "1992-12-31 -0.0003  0.0002  0.0173 -0.0002  0.0002  \n",
      "1993-01-04 -0.0029 -0.0021 -0.0184 -0.0008 -0.0031  \n",
      "1993-01-05 -0.0037 -0.0100 -0.0116  0.0005  0.0001  \n",
      "1993-01-06  0.0012  0.0029 -0.0014  0.0011  0.0023  \n",
      "1993-01-07 -0.0151 -0.0026  0.0073 -0.0020 -0.0066  \n",
      "...            ...     ...     ...     ...     ...  \n",
      "1993-12-20  0.0049 -0.0005  0.0031  0.0033 -0.0048  \n",
      "1993-12-21 -0.0057 -0.0060 -0.0110 -0.0028 -0.0051  \n",
      "1993-12-22  0.0012  0.0022  0.0024 -0.0041 -0.0010  \n",
      "1993-12-23  0.0030  0.0001 -0.0139  0.0013 -0.0043  \n",
      "1993-12-27  0.0059  0.0024  0.0053  0.0032  0.0019  \n",
      "\n",
      "[250 rows x 48 columns]\n"
     ]
    }
   ],
   "source": [
    "obs_group, pre_group = get_all_portfoios(observation_days, prediction_days, n_portfolios)\n",
    "print(f\"number of observation: {len(obs_group)}\\n number of prediction {len(pre_group)}\\n shape of observation:{obs_group[0].shape}\\n shape of prediction:{pre_group[0].shape}\\n\\n observation sample \\n{obs_group[0]}\")"
   ]
  },
  {
   "cell_type": "markdown",
   "id": "3cbd6429",
   "metadata": {},
   "source": [
    "## Shrinkage estimator of the covariance matrix\n",
    "### Minimum-variance portfolio (MVP)"
   ]
  },
  {
   "cell_type": "code",
   "execution_count": 6,
   "id": "40f4d2aa",
   "metadata": {
    "heading_collapsed": true
   },
   "outputs": [],
   "source": [
    "def optimal_weights(obs_returns):\n",
    "    weights = []\n",
    "    expected_return = []\n",
    "    volatility = []\n",
    "    sharpe_ratio = []\n",
    "    for i in range(len(obs_returns)):\n",
    "        mu = pypfopt.expected_returns.mean_historical_return(obs_returns[i], returns_data=True, \n",
    "                                                compounding=False, frequency=250, log_returns=False)\n",
    "        cov = pypfopt.risk_models.CovarianceShrinkage(obs_group[i], returns_data=True, \n",
    "                                                      frequency=250, log_returns=False)\n",
    "        S = cov.ledoit_wolf(shrinkage_target='single_factor')\n",
    "        ef = EfficientFrontier(mu, S, weight_bounds=(0,1))\n",
    "        raw_weights = ef.min_volatility()\n",
    "        cleaned_weights = ef.clean_weights()\n",
    "        weights.append(np.array(list(cleaned_weights.values())))\n",
    "        performance = ef.portfolio_performance(verbose=False)\n",
    "        np.array(expected_return.append(performance[0]))\n",
    "        np.array(volatility.append(performance[1]))\n",
    "        np.array(sharpe_ratio.append(performance[2]))\n",
    "    return weights, expected_return, volatility, sharpe_ratio\n",
    "\n",
    "def optimal_portfolio(optimal_weights, pre_returns):\n",
    "    variance = []\n",
    "    sharpe_ratio = []\n",
    "    for i in range(len(pre_returns)):\n",
    "        mu = pypfopt.expected_returns.mean_historical_return(pre_returns[i], returns_data=True, \n",
    "                                                compounding=False, frequency=21, log_returns=False)\n",
    "        cov = pypfopt.risk_models.CovarianceShrinkage(pre_returns[i], returns_data=True, \n",
    "                                                      frequency=21, log_returns=False)\n",
    "        S = cov.ledoit_wolf(shrinkage_target='single_factor')\n",
    "        sharpe_ratio.append(pypfopt.objective_functions.sharpe_ratio(optimal_weights[i], mu, S))\n",
    "        variance.append(pypfopt.objective_functions.portfolio_variance(optimal_weights[i], S))\n",
    "    return variance, sharpe_ratio"
   ]
  },
  {
   "cell_type": "code",
   "execution_count": 7,
   "id": "41af24a7",
   "metadata": {},
   "outputs": [],
   "source": [
    "weights, expected_return, volatility, sharpe_ratio = optimal_weights(obs_group) "
   ]
  },
  {
   "cell_type": "code",
   "execution_count": 8,
   "id": "40aa9829",
   "metadata": {},
   "outputs": [],
   "source": [
    "variance_pre, sharpe_ratio_pre = optimal_portfolio(weights, obs_group)"
   ]
  },
  {
   "cell_type": "markdown",
   "id": "d45f1420",
   "metadata": {},
   "source": [
    "### LWIF Portfolio variances of FF48"
   ]
  },
  {
   "cell_type": "code",
   "execution_count": 12,
   "id": "8412861d",
   "metadata": {
    "scrolled": true
   },
   "outputs": [
    {
     "data": {
      "text/plain": [
       "0.0010674064951263496"
      ]
     },
     "execution_count": 12,
     "metadata": {},
     "output_type": "execute_result"
    }
   ],
   "source": [
    "var = np.sum(variance_pre)/len(variance_pre)\n",
    "var"
   ]
  },
  {
   "cell_type": "markdown",
   "id": "046fb662",
   "metadata": {},
   "source": [
    "### LWIF Out-of-sample Sharpe ratio of FF48"
   ]
  },
  {
   "cell_type": "code",
   "execution_count": 13,
   "id": "ee6c1d1f",
   "metadata": {},
   "outputs": [
    {
     "data": {
      "text/plain": [
       "0.38438194820553007"
      ]
     },
     "execution_count": 13,
     "metadata": {},
     "output_type": "execute_result"
    }
   ],
   "source": [
    "sharpe_ratio_ = np.sum(sharpe_ratio_pre)/len(sharpe_ratio_pre)\n",
    "sharpe_ratio_"
   ]
  },
  {
   "cell_type": "markdown",
   "id": "3c7eac83",
   "metadata": {},
   "source": [
    "### LWIF Turnover of the portfolio strategies."
   ]
  },
  {
   "cell_type": "code",
   "execution_count": null,
   "id": "fbb61039",
   "metadata": {},
   "outputs": [],
   "source": []
  }
 ],
 "metadata": {
  "kernelspec": {
   "display_name": "Python 3 (ipykernel)",
   "language": "python",
   "name": "python3"
  },
  "language_info": {
   "codemirror_mode": {
    "name": "ipython",
    "version": 3
   },
   "file_extension": ".py",
   "mimetype": "text/x-python",
   "name": "python",
   "nbconvert_exporter": "python",
   "pygments_lexer": "ipython3",
   "version": "3.10.6"
  },
  "toc": {
   "base_numbering": 1,
   "nav_menu": {},
   "number_sections": true,
   "sideBar": true,
   "skip_h1_title": false,
   "title_cell": "Table of Contents",
   "title_sidebar": "Contents",
   "toc_cell": false,
   "toc_position": {},
   "toc_section_display": true,
   "toc_window_display": false
  }
 },
 "nbformat": 4,
 "nbformat_minor": 5
}
